{
 "cells": [
  {
   "cell_type": "code",
   "execution_count": 1,
   "metadata": {},
   "outputs": [],
   "source": [
    "import sys"
   ]
  },
  {
   "cell_type": "code",
   "execution_count": 2,
   "metadata": {},
   "outputs": [
    {
     "data": {
      "text/plain": [
       "['/Users/samuelkumar/Documents/Phenotype_simulation',\n",
       " '/Users/samuelkumar/opt/anaconda3/lib/python38.zip',\n",
       " '/Users/samuelkumar/opt/anaconda3/lib/python3.8',\n",
       " '/Users/samuelkumar/opt/anaconda3/lib/python3.8/lib-dynload',\n",
       " '',\n",
       " '/Users/samuelkumar/opt/anaconda3/lib/python3.8/site-packages',\n",
       " '/Users/samuelkumar/opt/anaconda3/lib/python3.8/site-packages/aeosa',\n",
       " '/Users/samuelkumar/opt/anaconda3/lib/python3.8/site-packages/IPython/extensions',\n",
       " '/Users/samuelkumar/.ipython']"
      ]
     },
     "execution_count": 2,
     "metadata": {},
     "output_type": "execute_result"
    }
   ],
   "source": [
    "sys.path"
   ]
  },
  {
   "cell_type": "code",
   "execution_count": 39,
   "metadata": {},
   "outputs": [
    {
     "data": {
      "text/plain": [
       "<module 'behaviour' from '/Users/samuelkumar/Documents/Phenotype_simulation/behaviour.py'>"
      ]
     },
     "execution_count": 39,
     "metadata": {},
     "output_type": "execute_result"
    }
   ],
   "source": [
    "import importlib\n",
    "\n",
    "importlib.reload(behaviour)"
   ]
  },
  {
   "cell_type": "code",
   "execution_count": 22,
   "metadata": {},
   "outputs": [],
   "source": [
    "import behaviour"
   ]
  },
  {
   "cell_type": "code",
   "execution_count": 32,
   "metadata": {},
   "outputs": [],
   "source": [
    "Fly1 = behaviour.fly(speed = 205, cognition = 10, tshift = 6,nTot = 60,alpha = 0.5, bias = [10,0,0,0])"
   ]
  },
  {
   "cell_type": "code",
   "execution_count": 33,
   "metadata": {},
   "outputs": [
    {
     "name": "stdout",
     "output_type": "stream",
     "text": [
      "Consumption, Victory, Time :\n"
     ]
    },
    {
     "data": {
      "text/plain": [
       "[0.004162037037037037, 0, 0]"
      ]
     },
     "execution_count": 33,
     "metadata": {},
     "output_type": "execute_result"
    }
   ],
   "source": [
    "Fly1.sim()"
   ]
  },
  {
   "cell_type": "code",
   "execution_count": 40,
   "metadata": {},
   "outputs": [],
   "source": [
    "behaviour?"
   ]
  },
  {
   "cell_type": "code",
   "execution_count": null,
   "metadata": {},
   "outputs": [],
   "source": []
  }
 ],
 "metadata": {
  "kernelspec": {
   "display_name": "Python 3",
   "language": "python",
   "name": "python3"
  },
  "language_info": {
   "codemirror_mode": {
    "name": "ipython",
    "version": 3
   },
   "file_extension": ".py",
   "mimetype": "text/x-python",
   "name": "python",
   "nbconvert_exporter": "python",
   "pygments_lexer": "ipython3",
   "version": "3.8.5"
  }
 },
 "nbformat": 4,
 "nbformat_minor": 4
}
